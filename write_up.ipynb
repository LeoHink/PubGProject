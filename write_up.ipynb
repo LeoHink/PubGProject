{
 "cells": [
  {
   "cell_type": "markdown",
   "metadata": {
    "slideshow": {
     "slide_type": "slide"
    }
   },
   "source": [
    "### MY470 Computer Programming\n",
    "\n",
    "### Final Assignment, MT 2022\n",
    "\n",
    "#### \\*\\*\\* Due 12:00 noon on Monday, January 23, 2023 \\*\\*\\*"
   ]
  },
  {
   "cell_type": "markdown",
   "metadata": {
    "slideshow": {
     "slide_type": "slide"
    }
   },
   "source": [
    "---\n",
    "## The homophily and social contagion of cheating\n",
    "\n",
    "The final assignment asks you to use the computational thinking and programming skills you learned in the course to answer an empirical social science question. You are expected to apply the best practices and theoretical concepts we covered in the course to produce a program that not only returns the correct output but is also legible, modular, and reasonably optimized. The assignment assumes mastery of loops, conditionals, and functions, as well as awareness of issues related to runtime performance.\n",
    "\n",
    "In the assignment, we will study the homophily and social contagion of cheating in the massive multiplayer online game PlayerUnknown's Battlegrounds (PUBG). Cheating in this context means the adoption of unapproved software that gives the player an unfair advantage in the game (e.g. being able to see through walls). \n",
    "\n",
    "Our hypotheses are that cheaters tend to associate with other cheaters but also, players who interact with cheaters become likely to adopt cheating themselves. To provide preliminary evidence for these hypotheses, we will:\n",
    "\n",
    "1. Observe whether cheaters tend to team up with other cheaters more than chance.\n",
    "2. Observe whether players who observe cheaters are likely to become cheaters more than chance.\n",
    "3. Observe whether players who are killed by cheaters are likely to become cheaters more than chance.\n",
    "\n",
    "To test the \"more than chance\" part, we will simulate alternative universes in which the players played the same game but joined a different team or happened to be killed by someone else at a different time. We will then compare how what we observe in the actual data compares to what we would expect in a \"randomized\" world.  \n",
    "\n",
    "**NOTE: You are only allowed to use fundamental Python data types (lists, tuples, dictionaries, numpy.ndarray, etc.) to complete this assignment.** You are not allowed to use advanced data querying and data analysis packages such as pandas, sqlite, networkx, or similar. We impose this restriction in order to test your grasp of fundamental programming concepts, not your scripting experience with Python libraries from before or from other courses you may be taking. \n",
    "\n",
    "#### Hints\n",
    "\n",
    "Although this assignment is quite streamlined, imagine that the tasks here are part of a larger project. How would you structure your program if in the future you may need to use a different dataset with similar structure, manipulate the data differently, add additional analyses, or modify the focus of the current analysis?  \n",
    "\n",
    "Keep different data manipulations in separate functions/methods and group related functions/classes in separate `.py` files. Name your modules in an informative way."
   ]
  },
  {
   "cell_type": "markdown",
   "metadata": {
    "slideshow": {
     "slide_type": "slide"
    }
   },
   "source": [
    "### Data\n",
    "\n",
    "You will find the data in the repository [https://github.com/lse-my470/assignment-final-data.git](https://github.com/lse-my470/assignment-final-data.git). Please clone the data repository in the same directory where you clone the repository `assignment-final-yourgithubname`. Keep the name for the data folder `assignment-final-data`. Any time when you refer to the data in your code, please use a relative path such as `'../assignment-final-data/filename.txt'` instead of an absolute path such as `'/Users/myname/Documents/my470/assignment-final-data/filename.txt'`. This way, we will be able to test your submission with our own copy of the data without having to modify your code.\n",
    "\n",
    "The data were collected by Jinny Kim (LSE MSc ASDS '19). The repository contains the following files:\n",
    "\n",
    "* `cheaters.txt` – contains cheaters who played between March 1 and March 10, 2019\n",
    "    1. player account id\n",
    "    2. estimated date when the player started cheating\n",
    "    3. date when the player's account was banned due to cheating\n",
    "\n",
    "\n",
    "* `kills.txt` – contains the killings done in 6,000 randomly selected matches played between March 1 and March 10, 2019\n",
    "    1. match id \n",
    "    2. account id of the killer\n",
    "    3. account id of the player who got killed\n",
    "    4. time when the kill happened\n",
    " \n",
    " \n",
    "* `team_ids.txt` – contains the team ids for players in 5,419 team-play matches in the same period. If a match from the kills.txt file does not appear in these data, we will assume that it was in single-player mode.  \n",
    "    1. match id \n",
    "    2. player account id\n",
    "    3. team id in match\n",
    "    \n",
    "You should not modify the original data in any way. Similarly, you should not duplicate the data in this repository but instead use a relative path to access them.\n",
    "\n",
    "### Output\n",
    "\n",
    "The tasks ask you to output actual counts and expecteded counts (mean with 95% confidence interval). To estimate the 95% conifdence intervals, ignore the small sample size and the fact that we are dealing with count data, and simply use the approximation: 95% CI $= \\mu \\pm 1.96 \\frac{\\sigma}{\\sqrt{n}}$, where $\\mu$ is the mean and $\\sigma$ the standard deviation of the counts in the $n=20$ randomizations. You are free to use `statsmodels` or `numpy` to calculate these values.\n",
    "\n",
    "\n",
    "#### Hints\n",
    "\n",
    "When writing your code, test it on a small \"toy dataset\", instead of the entire data. This way, you won't need to wait for minutes/hours just to find out that you have a syntax error!\n",
    "\n",
    "If the randomization is time consuming, it may be worth finding a way to save the data you generate on hard disk so that you don't need to run the randomization again and again. If you decide to do so, please write your code to save any such files with processed data in the directory where this file resides. This way, we can run your code without having to alter it.\n",
    "\n",
    "If you need to save any new data, think carefully about the most efficient way, both in terms of time and space, to save them."
   ]
  },
  {
   "cell_type": "markdown",
   "metadata": {},
   "source": [
    "## Import and run your code here\n",
    "\n",
    "Keep your code in separate `.py` files and then import it in the code cell below. In the subsequent cells, call the functions/methods you need to conduct the requested analyses. We should be able to run all cells here to calculate again the results and get the requested output, without having to modify your code in any way. "
   ]
  },
  {
   "cell_type": "code",
   "execution_count": 1,
   "metadata": {},
   "outputs": [],
   "source": [
    "# Import modules here\n",
    "import get_data as gd\n",
    "import observations as obs\n",
    "import simulations as sim"
   ]
  },
  {
   "cell_type": "markdown",
   "metadata": {},
   "source": [
    "### 1. Do cheaters team up?\n",
    "\n",
    "Use the files `cheaters.txt` and `team_ids.txt` to estimate how often cheaters (regardless of when exactly they started cheating) end up on the same team. Your output should say how many teams have 0, 1, 2, or 4 cheaters.\n",
    "\n",
    "Now, randomly shuffle the team ids among the players in a match. Repeat this 20 times and estimate the expected counts as before. Output the mean and the 95% confidence intervals for the expected counts. \n",
    "\n",
    "*Optional: Conclude in a short comment what you observe. This reflection is optional and will not be marked.*"
   ]
  },
  {
   "cell_type": "code",
   "execution_count": 5,
   "metadata": {},
   "outputs": [
    {
     "name": "stdout",
     "output_type": "stream",
     "text": [
      "Observed teaming up of cheaters:\n",
      "Number of teams with 0 cheaters: 170782\n",
      "Number of teams with 1 cheaters: 3199\n",
      "Number of teams with 2 cheaters: 182\n",
      "Number of teams with 3 cheaters: 9\n",
      "Number of teams with 4 cheaters: 2\n",
      "Simulated teaming up of cheaters:\n",
      "Number of teams with 0 cheaters: Mean = 170611.4, 95% CI = [170608.835 170613.965]\n",
      "Number of teams with 1 cheaters: Mean = 3527.25, 95% CI = [3522.092 3532.408]\n",
      "Number of teams with 2 cheaters: Mean = 35.3, 95% CI = [32.674 37.926]\n",
      "Number of teams with 3 cheaters: Mean = 0.05, 95% CI = [-0.046  0.146]\n",
      "Number of teams with 4 cheaters: Mean = 0.0, 95% CI = [0. 0.]\n"
     ]
    }
   ],
   "source": [
    "cheaters = gd.get_cheaters()\n",
    "team_ids = gd.get_teams_dict()\n",
    "\n",
    "# observed teaming up of cheaters\n",
    "observed = obs.get_num_cheaters(team_ids, cheaters)\n",
    "\n",
    "print(\"Observed teaming up of cheaters:\")\n",
    "for key, value in observed.items():\n",
    "    print(f\"Number of teams with {key} cheaters: {value}\")\n",
    "    \n",
    "# simulated teaming up of cheaters\n",
    "simulated = sim.simulate_cheating_teams(team_ids, \n",
    "    cheaters, 20)\n",
    "\n",
    "print(\"Simulated teaming up of cheaters:\")\n",
    "simulated_output = sim.simulation_teams(simulated)\n"
   ]
  },
  {
   "cell_type": "markdown",
   "metadata": {},
   "source": [
    "**Comment on Observation:**\n",
    "\n",
    "In this question we observe that cheaters do tend to team up. The simulation shows that in when teams are randomly assigned cheaters are far less likely to team up than in the actual observation. \n"
   ]
  },
  {
   "cell_type": "markdown",
   "metadata": {},
   "source": [
    "### 2. Do victims of cheating start cheating?\n",
    "\n",
    "Use the files `cheaters.txt` and `kills.txt` to count how many players got killed by an active cheater on at least one occasion and then started cheating. Specifically, we are interested in situations where:\n",
    "\n",
    "1. Player B has started cheating but player A is not cheating.\n",
    "2. Player B kills player A.\n",
    "3. At some point afterwards, player A starts cheating.\n",
    "\n",
    "Output the count in the data. \n",
    "\n",
    "Then, simulate alternative worlds in which everything is the same but the events took somewhat different sequence. To do so, randomize within a game, keeping the timing and structure of interactions but shuffling the player ids. Generate 20 randomizations like this and estimate the expected count of victims of cheating who start cheating as before. Output the mean and the 95% confidence interval for the expected count in these randomized worlds.\n",
    "\n",
    "*Optional: Conclude in a short comment what you observe. This reflection is optional and will not be marked.*\n",
    "\n",
    "#### Hint\n",
    "\n",
    "Starting time of cheating is estimated as a date, so assume that a player cheats on any match that they started playing on that date or afterwards. Use the match starting date so that if the match started before midnight of the cheating date but ended after midnight, we will assume that the player was not cheating just yet. \n"
   ]
  },
  {
   "cell_type": "code",
   "execution_count": 6,
   "metadata": {},
   "outputs": [
    {
     "name": "stdout",
     "output_type": "stream",
     "text": [
      "Observed victims of cheaters that started cheating:\n",
      "Number of players that started cheating after being killed by a cheater: 47 \n",
      "Simulated victims of cheaters that started cheating:\n",
      "Mean: 13.3, 95% CI:[11.866 14.734]\n"
     ]
    }
   ],
   "source": [
    "kills = gd.get_kill_dict()\n",
    "\n",
    "# observed victims of cheaters that started cheating\n",
    "observed_imitation_cheaters = obs.imitation_cheaters(kills, cheaters)\n",
    "\n",
    "print(\"Observed victims of cheaters that started cheating:\")\n",
    "print(f\"Number of players that started cheating after being killed by a cheater: {observed_imitation_cheaters} \")\n",
    "\n",
    "# simulated victims of cheaters that started cheating\n",
    "print(\"Simulated victims of cheaters that started cheating:\")\n",
    "simulated_imitation_cheaters = sim.simulation_imitation(kills, cheaters, 20)"
   ]
  },
  {
   "cell_type": "markdown",
   "metadata": {},
   "source": [
    "**Comment on Observation:**\n",
    "\n",
    "In this question we find that there are cases where victims of cheaters start cheating are higher in the data than when we randomly assign in-game fates to players. This suggests that there are cases of imitation cheating. \n",
    "\n",
    "*Some assumptions made to reach this output:*\n",
    "\n",
    "- Here I assume that players that are banned cannot be in a match, and that the account_id of a banned account cannot occur again. \n",
    "- I also do not count immitation cheaters that started cheating on the same day they were killed by a cheater. As the estimated start date of cheating has no time, this is a neccisary assumption for getting an output. E.g. 2023-01-22 < 2023-01-22 03:14:23. "
   ]
  },
  {
   "cell_type": "markdown",
   "metadata": {},
   "source": [
    "### 3. Do observers of cheating start cheating?\n",
    "\n",
    "Use the files `cheaters.txt` and `kills.txt` to count how many players observed an active cheater on at least one occasion and then started cheating. Cheating players can be recognized because they exhibit abnormal killing patterns. We will assume that player A realizes that player B cheats if:\n",
    "\n",
    "1. Player B has started cheating but player A is not cheating.\n",
    "2. Player B kills at least 3 other players before player A gets killed in the game.\n",
    "3. At some point afterwards, player A starts cheating.\n",
    "\n",
    "Output the count in the data.\n",
    "\n",
    "Then, use the 20 randomizations from Part 2 to estimate the expected count of observers of cheating who start cheating. Output the mean and the 95% confidence interval for the expected count in these randomized worlds.\n",
    "\n",
    "*Optional: Conclude in a short comment what you observe. This reflection is optional and will not be marked.*"
   ]
  },
  {
   "cell_type": "code",
   "execution_count": 7,
   "metadata": {},
   "outputs": [
    {
     "name": "stdout",
     "output_type": "stream",
     "text": [
      "Observed cheaters that started cheating after observing an active cheater:\n",
      "Number of players started cheating after observing an active cheater: 213\n",
      "Simulated cheaters that started cheating after observing an active cheater:\n",
      "Mean: 44.75, 95% CI:[42.003 47.497]\n"
     ]
    }
   ],
   "source": [
    "# observed cheaters that started cheating after observing an active cheater\n",
    "\n",
    "observation_cheaters = obs.observation_cheaters(kills, cheaters)\n",
    "print(\"Observed cheaters that started cheating after observing an active cheater:\")\n",
    "print(f\"Number of players started cheating after observing an active cheater: {observation_cheaters}\")\n",
    "\n",
    "# simulated cheaters that started cheating after observing an active cheater\n",
    "print(\"Simulated cheaters that started cheating after observing an active cheater:\")\n",
    "simulated_observation_cheaters = sim.simulation_observation(kills, cheaters, 20)"
   ]
  },
  {
   "cell_type": "markdown",
   "metadata": {},
   "source": [
    "**Comment on Observation:**\n",
    "\n",
    "In this question we find that 213 players that observed an active cheater started cheating at some point later. This is number is far greater than the number we expect to observe when the fates of players is randomly assigned. \n",
    "\n",
    "*Some assumptions made to reach this output:*\n",
    "\n",
    "\n",
    "- I count every player that is a victim in a game after the first cheater reaches three kills. From this count I then see how many \n",
    "victims turn cheaters at some point. I do not which cheater reaches 3 kills. And the victim does not necissarily have to be killed \n",
    "by a cheater. \n",
    "- The other assumptions are equivilant to the assumption in Question 2. \n",
    "\n",
    "\n"
   ]
  },
  {
   "cell_type": "markdown",
   "metadata": {},
   "source": [
    "---\n",
    "\n",
    "### Evaluation\n",
    "\n",
    "| Aspect         | Mark     | Comment   \n",
    "|:--------------:|:--------:|:----------------------\n",
    "| Code runs      |   /20    |              \n",
    "| Output 1       |   /10    | \n",
    "| Output 2       |   /10    | \n",
    "| Output 3       |   /10    | \n",
    "| Legibility     |   /10    | \n",
    "| Modularity     |   /10    | \n",
    "| Optimization   |   /30    | \n",
    "| **Total**      |**/100**  | \n"
   ]
  }
 ],
 "metadata": {
  "kernelspec": {
   "display_name": "Python 3 (ipykernel)",
   "language": "python",
   "name": "python3"
  },
  "language_info": {
   "codemirror_mode": {
    "name": "ipython",
    "version": 3
   },
   "file_extension": ".py",
   "mimetype": "text/x-python",
   "name": "python",
   "nbconvert_exporter": "python",
   "pygments_lexer": "ipython3",
   "version": "3.10.4"
  },
  "vscode": {
   "interpreter": {
    "hash": "80a5e7616cfd2992f95d8fc70ec4b04fe4bd0eb8f205adffe6b5e29938d4210e"
   }
  }
 },
 "nbformat": 4,
 "nbformat_minor": 2
}
